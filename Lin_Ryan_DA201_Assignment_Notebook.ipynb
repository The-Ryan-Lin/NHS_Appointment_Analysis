{
 "cells": [
  {
   "cell_type": "markdown",
   "id": "eb92d5a7",
   "metadata": {},
   "source": [
    "### LSE Data Analytics Online Career Accelerator\n",
    "\n",
    "# Course 2: Data Analytics using Python"
   ]
  },
  {
   "cell_type": "markdown",
   "id": "0ea7e113",
   "metadata": {},
   "source": [
    "## Assignment: Diagnostic Analysis using Python\n",
    "\n",
    "You’ll be working with real-world data to address a problem faced by the National Health Service (NHS). The analysis will require you to utilise Python to explore the available data, create visualisations to identify trends, and extract meaningful insights to inform decision-making. "
   ]
  },
  {
   "cell_type": "markdown",
   "id": "bce4b767",
   "metadata": {},
   "source": [
    "### A note for students using this template\n",
    "This Jupyter Notebook is a template you can use to complete the Course 2 assignment: Diagnostic Analysis using Python. \n",
    "\n",
    "Keep in mind: \n",
    "- You are **not required** to use this template to complete the assignment. \n",
    "- If you decide to use this template for your assignment, make a copy of the notebook and save it using the assignment naming convention: **LastName_FirstName_DA201_Assignment_Notebook.ipynb**.\n",
    "- The workflow suggested in this template follows the Assignment Activities throughout the course.\n",
    "- Refer to the guidance on the Assignment Activity pages for specific details. \n",
    "- The markup and comments in this template identify the key elements you need to complete before submitting the assignment.\n",
    "- Make this notebook your own by adding your process notes and rationale using markdown, add links, screenshots, or images to support your analysis, refine or clarify the comments, and change the workflow to suit your process.\n",
    "- All elements should be functional and visible in your Notebook. \n",
    "- Be sure to push your notebook to GitHub after completing each Assignment Activity.\n",
    "\n",
    " > ***Markdown*** Remember to change cell types to `Markdown`. You can review [Markdown basics](https://docs.github.com/en/get-started/writing-on-github/getting-started-with-writing-and-formatting-on-github/basic-writing-and-formatting-syntax) to find out how to add formatted text, links, and images to your notebook."
   ]
  },
  {
   "cell_type": "markdown",
   "id": "ef6d24b2",
   "metadata": {},
   "source": [
    "# "
   ]
  },
  {
   "cell_type": "markdown",
   "id": "0834b036",
   "metadata": {},
   "source": [
    "# Assignment activity 1"
   ]
  },
  {
   "cell_type": "markdown",
   "id": "8b40c558",
   "metadata": {},
   "source": [
    "### Insert proof of your GitHub repository. This can be a link or screenshot showing your repo."
   ]
  },
  {
   "cell_type": "code",
   "execution_count": 1,
   "id": "984dc1db",
   "metadata": {},
   "outputs": [],
   "source": [
    "# My GitHub repository.\n",
    "\n",
    "https://github.com/The-Ryan-Lin/Ryan_Lin_DA201_Assignment"
   ]
  },
  {
   "cell_type": "markdown",
   "id": "af0f600f",
   "metadata": {},
   "source": [
    "# "
   ]
  },
  {
   "cell_type": "markdown",
   "id": "c010a760",
   "metadata": {},
   "source": [
    "# Assignment activity 2"
   ]
  },
  {
   "cell_type": "markdown",
   "id": "550d4c5b",
   "metadata": {},
   "source": [
    "### Prepare your workstation"
   ]
  },
  {
   "cell_type": "code",
   "execution_count": 1,
   "id": "ef565e11",
   "metadata": {},
   "outputs": [],
   "source": [
    "# Import the necessary libraries.\n",
    "import pandas as pd\n",
    "import numpy as np\n",
    "\n",
    "# Optional - Ignore warnings.\n",
    "import warnings\n",
    "warnings.filterwarnings('ignore')"
   ]
  },
  {
   "cell_type": "markdown",
   "id": "4f40bfe8",
   "metadata": {},
   "source": [
    "## Actual Duration"
   ]
  },
  {
   "cell_type": "code",
   "execution_count": 2,
   "id": "624d89f2",
   "metadata": {},
   "outputs": [
    {
     "data": {
      "text/html": [
       "<div>\n",
       "<style scoped>\n",
       "    .dataframe tbody tr th:only-of-type {\n",
       "        vertical-align: middle;\n",
       "    }\n",
       "\n",
       "    .dataframe tbody tr th {\n",
       "        vertical-align: top;\n",
       "    }\n",
       "\n",
       "    .dataframe thead th {\n",
       "        text-align: right;\n",
       "    }\n",
       "</style>\n",
       "<table border=\"1\" class=\"dataframe\">\n",
       "  <thead>\n",
       "    <tr style=\"text-align: right;\">\n",
       "      <th></th>\n",
       "      <th>sub_icb_location_code</th>\n",
       "      <th>sub_icb_location_ons_code</th>\n",
       "      <th>sub_icb_location_name</th>\n",
       "      <th>icb_ons_code</th>\n",
       "      <th>region_ons_code</th>\n",
       "      <th>appointment_date</th>\n",
       "      <th>actual_duration</th>\n",
       "      <th>count_of_appointments</th>\n",
       "    </tr>\n",
       "  </thead>\n",
       "  <tbody>\n",
       "    <tr>\n",
       "      <th>0</th>\n",
       "      <td>00L</td>\n",
       "      <td>E38000130</td>\n",
       "      <td>NHS North East and North Cumbria ICB - 00L</td>\n",
       "      <td>E54000050</td>\n",
       "      <td>E40000012</td>\n",
       "      <td>01-Dec-21</td>\n",
       "      <td>31-60 Minutes</td>\n",
       "      <td>364</td>\n",
       "    </tr>\n",
       "    <tr>\n",
       "      <th>1</th>\n",
       "      <td>00L</td>\n",
       "      <td>E38000130</td>\n",
       "      <td>NHS North East and North Cumbria ICB - 00L</td>\n",
       "      <td>E54000050</td>\n",
       "      <td>E40000012</td>\n",
       "      <td>01-Dec-21</td>\n",
       "      <td>21-30 Minutes</td>\n",
       "      <td>619</td>\n",
       "    </tr>\n",
       "    <tr>\n",
       "      <th>2</th>\n",
       "      <td>00L</td>\n",
       "      <td>E38000130</td>\n",
       "      <td>NHS North East and North Cumbria ICB - 00L</td>\n",
       "      <td>E54000050</td>\n",
       "      <td>E40000012</td>\n",
       "      <td>01-Dec-21</td>\n",
       "      <td>6-10 Minutes</td>\n",
       "      <td>1698</td>\n",
       "    </tr>\n",
       "    <tr>\n",
       "      <th>3</th>\n",
       "      <td>00L</td>\n",
       "      <td>E38000130</td>\n",
       "      <td>NHS North East and North Cumbria ICB - 00L</td>\n",
       "      <td>E54000050</td>\n",
       "      <td>E40000012</td>\n",
       "      <td>01-Dec-21</td>\n",
       "      <td>Unknown / Data Quality</td>\n",
       "      <td>1277</td>\n",
       "    </tr>\n",
       "    <tr>\n",
       "      <th>4</th>\n",
       "      <td>00L</td>\n",
       "      <td>E38000130</td>\n",
       "      <td>NHS North East and North Cumbria ICB - 00L</td>\n",
       "      <td>E54000050</td>\n",
       "      <td>E40000012</td>\n",
       "      <td>01-Dec-21</td>\n",
       "      <td>16-20 Minutes</td>\n",
       "      <td>730</td>\n",
       "    </tr>\n",
       "    <tr>\n",
       "      <th>...</th>\n",
       "      <td>...</td>\n",
       "      <td>...</td>\n",
       "      <td>...</td>\n",
       "      <td>...</td>\n",
       "      <td>...</td>\n",
       "      <td>...</td>\n",
       "      <td>...</td>\n",
       "      <td>...</td>\n",
       "    </tr>\n",
       "    <tr>\n",
       "      <th>137788</th>\n",
       "      <td>X2C4Y</td>\n",
       "      <td>E38000254</td>\n",
       "      <td>NHS West Yorkshire ICB - X2C4Y</td>\n",
       "      <td>E54000054</td>\n",
       "      <td>E40000012</td>\n",
       "      <td>30-Jun-22</td>\n",
       "      <td>31-60 Minutes</td>\n",
       "      <td>430</td>\n",
       "    </tr>\n",
       "    <tr>\n",
       "      <th>137789</th>\n",
       "      <td>X2C4Y</td>\n",
       "      <td>E38000254</td>\n",
       "      <td>NHS West Yorkshire ICB - X2C4Y</td>\n",
       "      <td>E54000054</td>\n",
       "      <td>E40000012</td>\n",
       "      <td>30-Jun-22</td>\n",
       "      <td>21-30 Minutes</td>\n",
       "      <td>751</td>\n",
       "    </tr>\n",
       "    <tr>\n",
       "      <th>137790</th>\n",
       "      <td>X2C4Y</td>\n",
       "      <td>E38000254</td>\n",
       "      <td>NHS West Yorkshire ICB - X2C4Y</td>\n",
       "      <td>E54000054</td>\n",
       "      <td>E40000012</td>\n",
       "      <td>30-Jun-22</td>\n",
       "      <td>16-20 Minutes</td>\n",
       "      <td>921</td>\n",
       "    </tr>\n",
       "    <tr>\n",
       "      <th>137791</th>\n",
       "      <td>X2C4Y</td>\n",
       "      <td>E38000254</td>\n",
       "      <td>NHS West Yorkshire ICB - X2C4Y</td>\n",
       "      <td>E54000054</td>\n",
       "      <td>E40000012</td>\n",
       "      <td>30-Jun-22</td>\n",
       "      <td>11-15 Minutes</td>\n",
       "      <td>1439</td>\n",
       "    </tr>\n",
       "    <tr>\n",
       "      <th>137792</th>\n",
       "      <td>X2C4Y</td>\n",
       "      <td>E38000254</td>\n",
       "      <td>NHS West Yorkshire ICB - X2C4Y</td>\n",
       "      <td>E54000054</td>\n",
       "      <td>E40000012</td>\n",
       "      <td>30-Jun-22</td>\n",
       "      <td>1-5 Minutes</td>\n",
       "      <td>1739</td>\n",
       "    </tr>\n",
       "  </tbody>\n",
       "</table>\n",
       "<p>137793 rows × 8 columns</p>\n",
       "</div>"
      ],
      "text/plain": [
       "       sub_icb_location_code sub_icb_location_ons_code  \\\n",
       "0                        00L                 E38000130   \n",
       "1                        00L                 E38000130   \n",
       "2                        00L                 E38000130   \n",
       "3                        00L                 E38000130   \n",
       "4                        00L                 E38000130   \n",
       "...                      ...                       ...   \n",
       "137788                 X2C4Y                 E38000254   \n",
       "137789                 X2C4Y                 E38000254   \n",
       "137790                 X2C4Y                 E38000254   \n",
       "137791                 X2C4Y                 E38000254   \n",
       "137792                 X2C4Y                 E38000254   \n",
       "\n",
       "                             sub_icb_location_name icb_ons_code  \\\n",
       "0       NHS North East and North Cumbria ICB - 00L    E54000050   \n",
       "1       NHS North East and North Cumbria ICB - 00L    E54000050   \n",
       "2       NHS North East and North Cumbria ICB - 00L    E54000050   \n",
       "3       NHS North East and North Cumbria ICB - 00L    E54000050   \n",
       "4       NHS North East and North Cumbria ICB - 00L    E54000050   \n",
       "...                                            ...          ...   \n",
       "137788              NHS West Yorkshire ICB - X2C4Y    E54000054   \n",
       "137789              NHS West Yorkshire ICB - X2C4Y    E54000054   \n",
       "137790              NHS West Yorkshire ICB - X2C4Y    E54000054   \n",
       "137791              NHS West Yorkshire ICB - X2C4Y    E54000054   \n",
       "137792              NHS West Yorkshire ICB - X2C4Y    E54000054   \n",
       "\n",
       "       region_ons_code appointment_date         actual_duration  \\\n",
       "0            E40000012        01-Dec-21           31-60 Minutes   \n",
       "1            E40000012        01-Dec-21           21-30 Minutes   \n",
       "2            E40000012        01-Dec-21            6-10 Minutes   \n",
       "3            E40000012        01-Dec-21  Unknown / Data Quality   \n",
       "4            E40000012        01-Dec-21           16-20 Minutes   \n",
       "...                ...              ...                     ...   \n",
       "137788       E40000012        30-Jun-22           31-60 Minutes   \n",
       "137789       E40000012        30-Jun-22           21-30 Minutes   \n",
       "137790       E40000012        30-Jun-22           16-20 Minutes   \n",
       "137791       E40000012        30-Jun-22           11-15 Minutes   \n",
       "137792       E40000012        30-Jun-22             1-5 Minutes   \n",
       "\n",
       "        count_of_appointments  \n",
       "0                         364  \n",
       "1                         619  \n",
       "2                        1698  \n",
       "3                        1277  \n",
       "4                         730  \n",
       "...                       ...  \n",
       "137788                    430  \n",
       "137789                    751  \n",
       "137790                    921  \n",
       "137791                   1439  \n",
       "137792                   1739  \n",
       "\n",
       "[137793 rows x 8 columns]"
      ]
     },
     "metadata": {},
     "output_type": "display_data"
    }
   ],
   "source": [
    "# Import and sense-check the actual_duration.csv data set as ad.\n",
    "ad = pd.read_csv('actual_duration.csv')\n",
    "\n",
    "# View the DataFrame.Displays at the bottom numver of rows and columns\n",
    "display(ad)"
   ]
  },
  {
   "cell_type": "code",
   "execution_count": 4,
   "id": "f694cd9d",
   "metadata": {},
   "outputs": [
    {
     "data": {
      "text/plain": [
       "(0, 8)"
      ]
     },
     "execution_count": 4,
     "metadata": {},
     "output_type": "execute_result"
    }
   ],
   "source": [
    "# Determine whether there are missing values.\n",
    "# no rows with NaN in 8 columns\n",
    "ad_na = ad[ad.isna().any(axis=1)]\n",
    "ad_na.shape"
   ]
  },
  {
   "cell_type": "code",
   "execution_count": 8,
   "id": "c8fd49b5",
   "metadata": {},
   "outputs": [
    {
     "name": "stdout",
     "output_type": "stream",
     "text": [
      "sub_icb_location_code        object\n",
      "sub_icb_location_ons_code    object\n",
      "sub_icb_location_name        object\n",
      "icb_ons_code                 object\n",
      "region_ons_code              object\n",
      "appointment_date             object\n",
      "actual_duration              object\n",
      "count_of_appointments         int64\n",
      "dtype: object\n",
      "<class 'pandas.core.frame.DataFrame'>\n",
      "RangeIndex: 137793 entries, 0 to 137792\n",
      "Data columns (total 8 columns):\n",
      " #   Column                     Non-Null Count   Dtype \n",
      "---  ------                     --------------   ----- \n",
      " 0   sub_icb_location_code      137793 non-null  object\n",
      " 1   sub_icb_location_ons_code  137793 non-null  object\n",
      " 2   sub_icb_location_name      137793 non-null  object\n",
      " 3   icb_ons_code               137793 non-null  object\n",
      " 4   region_ons_code            137793 non-null  object\n",
      " 5   appointment_date           137793 non-null  object\n",
      " 6   actual_duration            137793 non-null  object\n",
      " 7   count_of_appointments      137793 non-null  int64 \n",
      "dtypes: int64(1), object(7)\n",
      "memory usage: 8.4+ MB\n",
      "None\n"
     ]
    }
   ],
   "source": [
    "# Determine the metadata/ datatypes of the data set.\n",
    "print(ad.dtypes)\n",
    "# Or can use .info()\n",
    "print(ad.info())"
   ]
  },
  {
   "cell_type": "code",
   "execution_count": 9,
   "id": "9fa13562",
   "metadata": {},
   "outputs": [
    {
     "name": "stdout",
     "output_type": "stream",
     "text": [
      "       count_of_appointments\n",
      "count          137793.000000\n",
      "mean             1219.080011\n",
      "std              1546.902956\n",
      "min                 1.000000\n",
      "25%               194.000000\n",
      "50%               696.000000\n",
      "75%              1621.000000\n",
      "max             15400.000000\n"
     ]
    }
   ],
   "source": [
    "# Determine the descriptive statistics of the data set.\n",
    "print(ad.describe())"
   ]
  },
  {
   "cell_type": "markdown",
   "id": "10756ef9",
   "metadata": {},
   "source": [
    "# Appointments Regional"
   ]
  },
  {
   "cell_type": "code",
   "execution_count": 10,
   "id": "f2dfbc7b",
   "metadata": {},
   "outputs": [
    {
     "data": {
      "text/html": [
       "<div>\n",
       "<style scoped>\n",
       "    .dataframe tbody tr th:only-of-type {\n",
       "        vertical-align: middle;\n",
       "    }\n",
       "\n",
       "    .dataframe tbody tr th {\n",
       "        vertical-align: top;\n",
       "    }\n",
       "\n",
       "    .dataframe thead th {\n",
       "        text-align: right;\n",
       "    }\n",
       "</style>\n",
       "<table border=\"1\" class=\"dataframe\">\n",
       "  <thead>\n",
       "    <tr style=\"text-align: right;\">\n",
       "      <th></th>\n",
       "      <th>icb_ons_code</th>\n",
       "      <th>appointment_month</th>\n",
       "      <th>appointment_status</th>\n",
       "      <th>hcp_type</th>\n",
       "      <th>appointment_mode</th>\n",
       "      <th>time_between_book_and_appointment</th>\n",
       "      <th>count_of_appointments</th>\n",
       "    </tr>\n",
       "  </thead>\n",
       "  <tbody>\n",
       "    <tr>\n",
       "      <th>0</th>\n",
       "      <td>E54000034</td>\n",
       "      <td>2020-01</td>\n",
       "      <td>Attended</td>\n",
       "      <td>GP</td>\n",
       "      <td>Face-to-Face</td>\n",
       "      <td>1 Day</td>\n",
       "      <td>8107</td>\n",
       "    </tr>\n",
       "    <tr>\n",
       "      <th>1</th>\n",
       "      <td>E54000034</td>\n",
       "      <td>2020-01</td>\n",
       "      <td>Attended</td>\n",
       "      <td>GP</td>\n",
       "      <td>Face-to-Face</td>\n",
       "      <td>15  to 21 Days</td>\n",
       "      <td>6791</td>\n",
       "    </tr>\n",
       "    <tr>\n",
       "      <th>2</th>\n",
       "      <td>E54000034</td>\n",
       "      <td>2020-01</td>\n",
       "      <td>Attended</td>\n",
       "      <td>GP</td>\n",
       "      <td>Face-to-Face</td>\n",
       "      <td>2 to 7 Days</td>\n",
       "      <td>20686</td>\n",
       "    </tr>\n",
       "    <tr>\n",
       "      <th>3</th>\n",
       "      <td>E54000034</td>\n",
       "      <td>2020-01</td>\n",
       "      <td>Attended</td>\n",
       "      <td>GP</td>\n",
       "      <td>Face-to-Face</td>\n",
       "      <td>22  to 28 Days</td>\n",
       "      <td>4268</td>\n",
       "    </tr>\n",
       "    <tr>\n",
       "      <th>4</th>\n",
       "      <td>E54000034</td>\n",
       "      <td>2020-01</td>\n",
       "      <td>Attended</td>\n",
       "      <td>GP</td>\n",
       "      <td>Face-to-Face</td>\n",
       "      <td>8  to 14 Days</td>\n",
       "      <td>11971</td>\n",
       "    </tr>\n",
       "    <tr>\n",
       "      <th>...</th>\n",
       "      <td>...</td>\n",
       "      <td>...</td>\n",
       "      <td>...</td>\n",
       "      <td>...</td>\n",
       "      <td>...</td>\n",
       "      <td>...</td>\n",
       "      <td>...</td>\n",
       "    </tr>\n",
       "    <tr>\n",
       "      <th>596816</th>\n",
       "      <td>E54000050</td>\n",
       "      <td>2022-06</td>\n",
       "      <td>Unknown</td>\n",
       "      <td>Unknown</td>\n",
       "      <td>Unknown</td>\n",
       "      <td>2 to 7 Days</td>\n",
       "      <td>21</td>\n",
       "    </tr>\n",
       "    <tr>\n",
       "      <th>596817</th>\n",
       "      <td>E54000050</td>\n",
       "      <td>2022-06</td>\n",
       "      <td>Unknown</td>\n",
       "      <td>Unknown</td>\n",
       "      <td>Unknown</td>\n",
       "      <td>22  to 28 Days</td>\n",
       "      <td>8</td>\n",
       "    </tr>\n",
       "    <tr>\n",
       "      <th>596818</th>\n",
       "      <td>E54000050</td>\n",
       "      <td>2022-06</td>\n",
       "      <td>Unknown</td>\n",
       "      <td>Unknown</td>\n",
       "      <td>Unknown</td>\n",
       "      <td>8  to 14 Days</td>\n",
       "      <td>28</td>\n",
       "    </tr>\n",
       "    <tr>\n",
       "      <th>596819</th>\n",
       "      <td>E54000050</td>\n",
       "      <td>2022-06</td>\n",
       "      <td>Unknown</td>\n",
       "      <td>Unknown</td>\n",
       "      <td>Unknown</td>\n",
       "      <td>More than 28 Days</td>\n",
       "      <td>17</td>\n",
       "    </tr>\n",
       "    <tr>\n",
       "      <th>596820</th>\n",
       "      <td>E54000050</td>\n",
       "      <td>2022-06</td>\n",
       "      <td>Unknown</td>\n",
       "      <td>Unknown</td>\n",
       "      <td>Unknown</td>\n",
       "      <td>Same Day</td>\n",
       "      <td>10</td>\n",
       "    </tr>\n",
       "  </tbody>\n",
       "</table>\n",
       "<p>596821 rows × 7 columns</p>\n",
       "</div>"
      ],
      "text/plain": [
       "       icb_ons_code appointment_month appointment_status hcp_type  \\\n",
       "0         E54000034           2020-01           Attended       GP   \n",
       "1         E54000034           2020-01           Attended       GP   \n",
       "2         E54000034           2020-01           Attended       GP   \n",
       "3         E54000034           2020-01           Attended       GP   \n",
       "4         E54000034           2020-01           Attended       GP   \n",
       "...             ...               ...                ...      ...   \n",
       "596816    E54000050           2022-06            Unknown  Unknown   \n",
       "596817    E54000050           2022-06            Unknown  Unknown   \n",
       "596818    E54000050           2022-06            Unknown  Unknown   \n",
       "596819    E54000050           2022-06            Unknown  Unknown   \n",
       "596820    E54000050           2022-06            Unknown  Unknown   \n",
       "\n",
       "       appointment_mode time_between_book_and_appointment  \\\n",
       "0          Face-to-Face                             1 Day   \n",
       "1          Face-to-Face                    15  to 21 Days   \n",
       "2          Face-to-Face                       2 to 7 Days   \n",
       "3          Face-to-Face                    22  to 28 Days   \n",
       "4          Face-to-Face                     8  to 14 Days   \n",
       "...                 ...                               ...   \n",
       "596816          Unknown                       2 to 7 Days   \n",
       "596817          Unknown                    22  to 28 Days   \n",
       "596818          Unknown                     8  to 14 Days   \n",
       "596819          Unknown                 More than 28 Days   \n",
       "596820          Unknown                          Same Day   \n",
       "\n",
       "        count_of_appointments  \n",
       "0                        8107  \n",
       "1                        6791  \n",
       "2                       20686  \n",
       "3                        4268  \n",
       "4                       11971  \n",
       "...                       ...  \n",
       "596816                     21  \n",
       "596817                      8  \n",
       "596818                     28  \n",
       "596819                     17  \n",
       "596820                     10  \n",
       "\n",
       "[596821 rows x 7 columns]"
      ]
     },
     "metadata": {},
     "output_type": "display_data"
    }
   ],
   "source": [
    "# Import and sense-check the appointments_regional.csv data set as ar.\n",
    "ar = pd.read_csv('appointments_regional.csv')\n",
    "\n",
    "# View the DataFrame.\n",
    "display(ar)"
   ]
  },
  {
   "cell_type": "code",
   "execution_count": 11,
   "id": "255823c3",
   "metadata": {},
   "outputs": [
    {
     "data": {
      "text/plain": [
       "(0, 7)"
      ]
     },
     "execution_count": 11,
     "metadata": {},
     "output_type": "execute_result"
    }
   ],
   "source": [
    "# Determine whether there are missing values.\n",
    "# no rows with NaN in 7 columns\n",
    "ar_na = ar[ar.isna().any(axis=1)]\n",
    "ar_na.shape"
   ]
  },
  {
   "cell_type": "code",
   "execution_count": 12,
   "id": "1daa3556",
   "metadata": {},
   "outputs": [
    {
     "name": "stdout",
     "output_type": "stream",
     "text": [
      "icb_ons_code                         object\n",
      "appointment_month                    object\n",
      "appointment_status                   object\n",
      "hcp_type                             object\n",
      "appointment_mode                     object\n",
      "time_between_book_and_appointment    object\n",
      "count_of_appointments                 int64\n",
      "dtype: object\n"
     ]
    }
   ],
   "source": [
    "# Determine the metadata of the data set.\n",
    "print(ar.dtypes)"
   ]
  },
  {
   "cell_type": "code",
   "execution_count": 13,
   "id": "3cbc4d97",
   "metadata": {},
   "outputs": [
    {
     "data": {
      "text/html": [
       "<div>\n",
       "<style scoped>\n",
       "    .dataframe tbody tr th:only-of-type {\n",
       "        vertical-align: middle;\n",
       "    }\n",
       "\n",
       "    .dataframe tbody tr th {\n",
       "        vertical-align: top;\n",
       "    }\n",
       "\n",
       "    .dataframe thead th {\n",
       "        text-align: right;\n",
       "    }\n",
       "</style>\n",
       "<table border=\"1\" class=\"dataframe\">\n",
       "  <thead>\n",
       "    <tr style=\"text-align: right;\">\n",
       "      <th></th>\n",
       "      <th>count_of_appointments</th>\n",
       "    </tr>\n",
       "  </thead>\n",
       "  <tbody>\n",
       "    <tr>\n",
       "      <th>count</th>\n",
       "      <td>596821.000000</td>\n",
       "    </tr>\n",
       "    <tr>\n",
       "      <th>mean</th>\n",
       "      <td>1244.601857</td>\n",
       "    </tr>\n",
       "    <tr>\n",
       "      <th>std</th>\n",
       "      <td>5856.887042</td>\n",
       "    </tr>\n",
       "    <tr>\n",
       "      <th>min</th>\n",
       "      <td>1.000000</td>\n",
       "    </tr>\n",
       "    <tr>\n",
       "      <th>25%</th>\n",
       "      <td>7.000000</td>\n",
       "    </tr>\n",
       "    <tr>\n",
       "      <th>50%</th>\n",
       "      <td>47.000000</td>\n",
       "    </tr>\n",
       "    <tr>\n",
       "      <th>75%</th>\n",
       "      <td>308.000000</td>\n",
       "    </tr>\n",
       "    <tr>\n",
       "      <th>max</th>\n",
       "      <td>211265.000000</td>\n",
       "    </tr>\n",
       "  </tbody>\n",
       "</table>\n",
       "</div>"
      ],
      "text/plain": [
       "       count_of_appointments\n",
       "count          596821.000000\n",
       "mean             1244.601857\n",
       "std              5856.887042\n",
       "min                 1.000000\n",
       "25%                 7.000000\n",
       "50%                47.000000\n",
       "75%               308.000000\n",
       "max            211265.000000"
      ]
     },
     "execution_count": 13,
     "metadata": {},
     "output_type": "execute_result"
    }
   ],
   "source": [
    "# Determine the descriptive statistics of the data set.\n",
    "ar.describe()"
   ]
  },
  {
   "cell_type": "markdown",
   "id": "d0d2833c",
   "metadata": {},
   "source": [
    "## National Categories"
   ]
  },
  {
   "cell_type": "code",
   "execution_count": 15,
   "id": "4e30305d",
   "metadata": {},
   "outputs": [
    {
     "data": {
      "text/html": [
       "<div>\n",
       "<style scoped>\n",
       "    .dataframe tbody tr th:only-of-type {\n",
       "        vertical-align: middle;\n",
       "    }\n",
       "\n",
       "    .dataframe tbody tr th {\n",
       "        vertical-align: top;\n",
       "    }\n",
       "\n",
       "    .dataframe thead th {\n",
       "        text-align: right;\n",
       "    }\n",
       "</style>\n",
       "<table border=\"1\" class=\"dataframe\">\n",
       "  <thead>\n",
       "    <tr style=\"text-align: right;\">\n",
       "      <th></th>\n",
       "      <th>appointment_date</th>\n",
       "      <th>icb_ons_code</th>\n",
       "      <th>sub_icb_location_name</th>\n",
       "      <th>service_setting</th>\n",
       "      <th>context_type</th>\n",
       "      <th>national_category</th>\n",
       "      <th>count_of_appointments</th>\n",
       "      <th>appointment_month</th>\n",
       "    </tr>\n",
       "  </thead>\n",
       "  <tbody>\n",
       "    <tr>\n",
       "      <th>0</th>\n",
       "      <td>2021-08-02</td>\n",
       "      <td>E54000050</td>\n",
       "      <td>NHS North East and North Cumbria ICB - 00L</td>\n",
       "      <td>Primary Care Network</td>\n",
       "      <td>Care Related Encounter</td>\n",
       "      <td>Patient contact during Care Home Round</td>\n",
       "      <td>3</td>\n",
       "      <td>2021-08</td>\n",
       "    </tr>\n",
       "    <tr>\n",
       "      <th>1</th>\n",
       "      <td>2021-08-02</td>\n",
       "      <td>E54000050</td>\n",
       "      <td>NHS North East and North Cumbria ICB - 00L</td>\n",
       "      <td>Other</td>\n",
       "      <td>Care Related Encounter</td>\n",
       "      <td>Planned Clinics</td>\n",
       "      <td>7</td>\n",
       "      <td>2021-08</td>\n",
       "    </tr>\n",
       "    <tr>\n",
       "      <th>2</th>\n",
       "      <td>2021-08-02</td>\n",
       "      <td>E54000050</td>\n",
       "      <td>NHS North East and North Cumbria ICB - 00L</td>\n",
       "      <td>General Practice</td>\n",
       "      <td>Care Related Encounter</td>\n",
       "      <td>Home Visit</td>\n",
       "      <td>79</td>\n",
       "      <td>2021-08</td>\n",
       "    </tr>\n",
       "    <tr>\n",
       "      <th>3</th>\n",
       "      <td>2021-08-02</td>\n",
       "      <td>E54000050</td>\n",
       "      <td>NHS North East and North Cumbria ICB - 00L</td>\n",
       "      <td>General Practice</td>\n",
       "      <td>Care Related Encounter</td>\n",
       "      <td>General Consultation Acute</td>\n",
       "      <td>725</td>\n",
       "      <td>2021-08</td>\n",
       "    </tr>\n",
       "    <tr>\n",
       "      <th>4</th>\n",
       "      <td>2021-08-02</td>\n",
       "      <td>E54000050</td>\n",
       "      <td>NHS North East and North Cumbria ICB - 00L</td>\n",
       "      <td>General Practice</td>\n",
       "      <td>Care Related Encounter</td>\n",
       "      <td>Structured Medication Review</td>\n",
       "      <td>2</td>\n",
       "      <td>2021-08</td>\n",
       "    </tr>\n",
       "    <tr>\n",
       "      <th>...</th>\n",
       "      <td>...</td>\n",
       "      <td>...</td>\n",
       "      <td>...</td>\n",
       "      <td>...</td>\n",
       "      <td>...</td>\n",
       "      <td>...</td>\n",
       "      <td>...</td>\n",
       "      <td>...</td>\n",
       "    </tr>\n",
       "    <tr>\n",
       "      <th>817389</th>\n",
       "      <td>2022-06-30</td>\n",
       "      <td>E54000054</td>\n",
       "      <td>NHS West Yorkshire ICB - X2C4Y</td>\n",
       "      <td>Extended Access Provision</td>\n",
       "      <td>Care Related Encounter</td>\n",
       "      <td>Unplanned Clinical Activity</td>\n",
       "      <td>12</td>\n",
       "      <td>2022-06</td>\n",
       "    </tr>\n",
       "    <tr>\n",
       "      <th>817390</th>\n",
       "      <td>2022-06-30</td>\n",
       "      <td>E54000054</td>\n",
       "      <td>NHS West Yorkshire ICB - X2C4Y</td>\n",
       "      <td>Extended Access Provision</td>\n",
       "      <td>Care Related Encounter</td>\n",
       "      <td>Planned Clinics</td>\n",
       "      <td>4</td>\n",
       "      <td>2022-06</td>\n",
       "    </tr>\n",
       "    <tr>\n",
       "      <th>817391</th>\n",
       "      <td>2022-06-30</td>\n",
       "      <td>E54000054</td>\n",
       "      <td>NHS West Yorkshire ICB - X2C4Y</td>\n",
       "      <td>Extended Access Provision</td>\n",
       "      <td>Care Related Encounter</td>\n",
       "      <td>Planned Clinical Procedure</td>\n",
       "      <td>92</td>\n",
       "      <td>2022-06</td>\n",
       "    </tr>\n",
       "    <tr>\n",
       "      <th>817392</th>\n",
       "      <td>2022-06-30</td>\n",
       "      <td>E54000054</td>\n",
       "      <td>NHS West Yorkshire ICB - X2C4Y</td>\n",
       "      <td>Extended Access Provision</td>\n",
       "      <td>Care Related Encounter</td>\n",
       "      <td>General Consultation Routine</td>\n",
       "      <td>4</td>\n",
       "      <td>2022-06</td>\n",
       "    </tr>\n",
       "    <tr>\n",
       "      <th>817393</th>\n",
       "      <td>2022-06-30</td>\n",
       "      <td>E54000054</td>\n",
       "      <td>NHS West Yorkshire ICB - X2C4Y</td>\n",
       "      <td>Extended Access Provision</td>\n",
       "      <td>Care Related Encounter</td>\n",
       "      <td>General Consultation Acute</td>\n",
       "      <td>19</td>\n",
       "      <td>2022-06</td>\n",
       "    </tr>\n",
       "  </tbody>\n",
       "</table>\n",
       "<p>817394 rows × 8 columns</p>\n",
       "</div>"
      ],
      "text/plain": [
       "       appointment_date icb_ons_code  \\\n",
       "0            2021-08-02    E54000050   \n",
       "1            2021-08-02    E54000050   \n",
       "2            2021-08-02    E54000050   \n",
       "3            2021-08-02    E54000050   \n",
       "4            2021-08-02    E54000050   \n",
       "...                 ...          ...   \n",
       "817389       2022-06-30    E54000054   \n",
       "817390       2022-06-30    E54000054   \n",
       "817391       2022-06-30    E54000054   \n",
       "817392       2022-06-30    E54000054   \n",
       "817393       2022-06-30    E54000054   \n",
       "\n",
       "                             sub_icb_location_name            service_setting  \\\n",
       "0       NHS North East and North Cumbria ICB - 00L       Primary Care Network   \n",
       "1       NHS North East and North Cumbria ICB - 00L                      Other   \n",
       "2       NHS North East and North Cumbria ICB - 00L           General Practice   \n",
       "3       NHS North East and North Cumbria ICB - 00L           General Practice   \n",
       "4       NHS North East and North Cumbria ICB - 00L           General Practice   \n",
       "...                                            ...                        ...   \n",
       "817389              NHS West Yorkshire ICB - X2C4Y  Extended Access Provision   \n",
       "817390              NHS West Yorkshire ICB - X2C4Y  Extended Access Provision   \n",
       "817391              NHS West Yorkshire ICB - X2C4Y  Extended Access Provision   \n",
       "817392              NHS West Yorkshire ICB - X2C4Y  Extended Access Provision   \n",
       "817393              NHS West Yorkshire ICB - X2C4Y  Extended Access Provision   \n",
       "\n",
       "                  context_type                       national_category  \\\n",
       "0       Care Related Encounter  Patient contact during Care Home Round   \n",
       "1       Care Related Encounter                         Planned Clinics   \n",
       "2       Care Related Encounter                              Home Visit   \n",
       "3       Care Related Encounter              General Consultation Acute   \n",
       "4       Care Related Encounter            Structured Medication Review   \n",
       "...                        ...                                     ...   \n",
       "817389  Care Related Encounter             Unplanned Clinical Activity   \n",
       "817390  Care Related Encounter                         Planned Clinics   \n",
       "817391  Care Related Encounter              Planned Clinical Procedure   \n",
       "817392  Care Related Encounter            General Consultation Routine   \n",
       "817393  Care Related Encounter              General Consultation Acute   \n",
       "\n",
       "        count_of_appointments appointment_month  \n",
       "0                           3           2021-08  \n",
       "1                           7           2021-08  \n",
       "2                          79           2021-08  \n",
       "3                         725           2021-08  \n",
       "4                           2           2021-08  \n",
       "...                       ...               ...  \n",
       "817389                     12           2022-06  \n",
       "817390                      4           2022-06  \n",
       "817391                     92           2022-06  \n",
       "817392                      4           2022-06  \n",
       "817393                     19           2022-06  \n",
       "\n",
       "[817394 rows x 8 columns]"
      ]
     },
     "metadata": {},
     "output_type": "display_data"
    }
   ],
   "source": [
    "# Import and sense-check the national_categories.xlsx data set as nc.\n",
    "nc = pd.read_excel('national_categories.xlsx')\n",
    "\n",
    "# View the DataFrame.\n",
    "display(nc)"
   ]
  },
  {
   "cell_type": "code",
   "execution_count": 16,
   "id": "f5dfc24e",
   "metadata": {},
   "outputs": [
    {
     "data": {
      "text/plain": [
       "(0, 8)"
      ]
     },
     "execution_count": 16,
     "metadata": {},
     "output_type": "execute_result"
    }
   ],
   "source": [
    "# Determine whether there are missing values.\n",
    "# no rows with NaN in 8 columns\n",
    "nc_na = nc[nc.isna().any(axis=1)]\n",
    "nc_na.shape"
   ]
  },
  {
   "cell_type": "code",
   "execution_count": 17,
   "id": "e7dbbef3",
   "metadata": {},
   "outputs": [
    {
     "name": "stdout",
     "output_type": "stream",
     "text": [
      "appointment_date         datetime64[ns]\n",
      "icb_ons_code                     object\n",
      "sub_icb_location_name            object\n",
      "service_setting                  object\n",
      "context_type                     object\n",
      "national_category                object\n",
      "count_of_appointments             int64\n",
      "appointment_month                object\n",
      "dtype: object\n"
     ]
    }
   ],
   "source": [
    "# Determine the metadata of the data set.\n",
    "print(nc.dtypes)"
   ]
  },
  {
   "cell_type": "code",
   "execution_count": 18,
   "id": "b87dfc23",
   "metadata": {},
   "outputs": [
    {
     "data": {
      "text/html": [
       "<div>\n",
       "<style scoped>\n",
       "    .dataframe tbody tr th:only-of-type {\n",
       "        vertical-align: middle;\n",
       "    }\n",
       "\n",
       "    .dataframe tbody tr th {\n",
       "        vertical-align: top;\n",
       "    }\n",
       "\n",
       "    .dataframe thead th {\n",
       "        text-align: right;\n",
       "    }\n",
       "</style>\n",
       "<table border=\"1\" class=\"dataframe\">\n",
       "  <thead>\n",
       "    <tr style=\"text-align: right;\">\n",
       "      <th></th>\n",
       "      <th>count_of_appointments</th>\n",
       "    </tr>\n",
       "  </thead>\n",
       "  <tbody>\n",
       "    <tr>\n",
       "      <th>count</th>\n",
       "      <td>817394.000000</td>\n",
       "    </tr>\n",
       "    <tr>\n",
       "      <th>mean</th>\n",
       "      <td>362.183684</td>\n",
       "    </tr>\n",
       "    <tr>\n",
       "      <th>std</th>\n",
       "      <td>1084.576600</td>\n",
       "    </tr>\n",
       "    <tr>\n",
       "      <th>min</th>\n",
       "      <td>1.000000</td>\n",
       "    </tr>\n",
       "    <tr>\n",
       "      <th>25%</th>\n",
       "      <td>7.000000</td>\n",
       "    </tr>\n",
       "    <tr>\n",
       "      <th>50%</th>\n",
       "      <td>25.000000</td>\n",
       "    </tr>\n",
       "    <tr>\n",
       "      <th>75%</th>\n",
       "      <td>128.000000</td>\n",
       "    </tr>\n",
       "    <tr>\n",
       "      <th>max</th>\n",
       "      <td>16590.000000</td>\n",
       "    </tr>\n",
       "  </tbody>\n",
       "</table>\n",
       "</div>"
      ],
      "text/plain": [
       "       count_of_appointments\n",
       "count          817394.000000\n",
       "mean              362.183684\n",
       "std              1084.576600\n",
       "min                 1.000000\n",
       "25%                 7.000000\n",
       "50%                25.000000\n",
       "75%               128.000000\n",
       "max             16590.000000"
      ]
     },
     "execution_count": 18,
     "metadata": {},
     "output_type": "execute_result"
    }
   ],
   "source": [
    "# Determine the descriptive statistics of the data set.\n",
    "nc.describe()"
   ]
  },
  {
   "cell_type": "markdown",
   "id": "f86ea066",
   "metadata": {},
   "source": [
    "## Explore the data to respond to objectives"
   ]
  },
  {
   "cell_type": "code",
   "execution_count": null,
   "id": "dbfc9c1d",
   "metadata": {},
   "outputs": [],
   "source": [
    "# Use the value.counts(), count(), and print() methods. \n",
    "# Inset an appropriate docstring to present your output in a sensible way. \n",
    "# For example, print(\"Count of locations: \", …]).\n",
    "# Use the nc DataFrame and appropriate column names (e.g. sub_icb_location_name)."
   ]
  },
  {
   "cell_type": "markdown",
   "id": "333a607a",
   "metadata": {},
   "source": [
    "**Question 1:** How many locations are there in the data set?"
   ]
  },
  {
   "cell_type": "code",
   "execution_count": null,
   "id": "749cdb45",
   "metadata": {},
   "outputs": [],
   "source": [
    "# Determine the number of locations.\n",
    "# Counting Unique Values\n",
    "\n",
    "nc_locations = len(pd.unique(nc['sub_icb_location_name']))\n",
    "print(\"Count of locations: \", nc_locations)"
   ]
  },
  {
   "cell_type": "code",
   "execution_count": null,
   "id": "9f83cbdd",
   "metadata": {},
   "outputs": [],
   "source": [
    "nc_locations_list = nc['sub_icb_location_name'].value_counts()\n",
    "nc_locations_list"
   ]
  },
  {
   "cell_type": "markdown",
   "id": "93f0ce86",
   "metadata": {},
   "source": [
    "**Question 2:** What are the five locations with the highest number of records?\n",
    "\n"
   ]
  },
  {
   "cell_type": "code",
   "execution_count": 19,
   "id": "9e7c3913",
   "metadata": {},
   "outputs": [
    {
     "data": {
      "text/plain": [
       "NHS North West London ICB - W2U3Z              13007\n",
       "NHS Kent and Medway ICB - 91Q                  12637\n",
       "NHS Devon ICB - 15N                            12526\n",
       "NHS Hampshire and Isle Of Wight ICB - D9Y0V    12171\n",
       "NHS North East London ICB - A3A8R              11837\n",
       "                                               ...  \n",
       "NHS North East and North Cumbria ICB - 00N      4210\n",
       "NHS Lancashire and South Cumbria ICB - 02G      4169\n",
       "NHS Cheshire and Merseyside ICB - 01V           3496\n",
       "NHS Cheshire and Merseyside ICB - 01T           3242\n",
       "NHS Greater Manchester ICB - 00V                2170\n",
       "Name: sub_icb_location_name, Length: 106, dtype: int64"
      ]
     },
     "execution_count": 19,
     "metadata": {},
     "output_type": "execute_result"
    }
   ],
   "source": [
    "# Determine the top five locations based on record count.\n",
    "nc_locations_list = nc['sub_icb_location_name'].value_counts(sort=True)\n",
    "nc_locations_list"
   ]
  },
  {
   "cell_type": "markdown",
   "id": "d75405a5",
   "metadata": {},
   "source": [
    "**Question 3:** How many service settings, context types, national categories, and appointment statuses are there?"
   ]
  },
  {
   "cell_type": "code",
   "execution_count": 20,
   "id": "3cc2f7aa",
   "metadata": {},
   "outputs": [
    {
     "name": "stdout",
     "output_type": "stream",
     "text": [
      "Count of service settings:  5\n"
     ]
    }
   ],
   "source": [
    "# Determine the number of service settings. \n",
    "# Counting Unique Values for service settings\n",
    "\n",
    "nc_ss = len(pd.unique(nc['service_setting']))\n",
    "print(\"Count of service settings: \", nc_ss)"
   ]
  },
  {
   "cell_type": "code",
   "execution_count": 21,
   "id": "f6790e40",
   "metadata": {},
   "outputs": [
    {
     "name": "stdout",
     "output_type": "stream",
     "text": [
      "Count of context types:  3\n"
     ]
    }
   ],
   "source": [
    "# Determine the number of context types.\n",
    "nc_cc = len(pd.unique(nc['context_type']))\n",
    "print(\"Count of context types: \", nc_cc)"
   ]
  },
  {
   "cell_type": "code",
   "execution_count": 22,
   "id": "ba95bff3",
   "metadata": {},
   "outputs": [
    {
     "name": "stdout",
     "output_type": "stream",
     "text": [
      "Count of national categories:  18\n"
     ]
    }
   ],
   "source": [
    "# Determine the number of national categories.\n",
    "nc_nc = len(pd.unique(nc['national_category']))\n",
    "print(\"Count of national categories: \", nc_nc)"
   ]
  },
  {
   "cell_type": "code",
   "execution_count": 23,
   "id": "a5633147",
   "metadata": {},
   "outputs": [
    {
     "name": "stdout",
     "output_type": "stream",
     "text": [
      "Count of appointment statuses:  3\n"
     ]
    }
   ],
   "source": [
    "# Determine the number of appointment status.\n",
    "ar_as = len(pd.unique(ar['appointment_status']))\n",
    "print(\"Count of appointment statuses: \", ar_as)"
   ]
  },
  {
   "cell_type": "code",
   "execution_count": 24,
   "id": "b9988c66",
   "metadata": {},
   "outputs": [
    {
     "name": "stdout",
     "output_type": "stream",
     "text": [
      "No.of.unique values in each column :\n",
      " appointment_date          334\n",
      "icb_ons_code               42\n",
      "sub_icb_location_name     106\n",
      "service_setting             5\n",
      "context_type                3\n",
      "national_category          18\n",
      "count_of_appointments    9957\n",
      "appointment_month          11\n",
      "dtype: int64\n"
     ]
    }
   ],
   "source": [
    "# no. of unique values in each column (can remove)\n",
    "\n",
    "nc_n = nc.nunique(axis=0)\n",
    "print(\"No.of.unique values in each column :\\n\", nc_n)"
   ]
  },
  {
   "cell_type": "markdown",
   "id": "7c3429c3",
   "metadata": {},
   "source": [
    "# "
   ]
  },
  {
   "cell_type": "markdown",
   "id": "edf661d9",
   "metadata": {},
   "source": [
    "# Assignment activity 3"
   ]
  },
  {
   "cell_type": "markdown",
   "id": "be5393dd",
   "metadata": {},
   "source": [
    "### Continue to explore the data and search for answers to more specific questions posed by the NHS."
   ]
  },
  {
   "cell_type": "markdown",
   "id": "a742e563",
   "metadata": {},
   "source": [
    "**Question 1:** Between what dates were appointments scheduled? "
   ]
  },
  {
   "cell_type": "code",
   "execution_count": 25,
   "id": "6d3e53a7",
   "metadata": {},
   "outputs": [
    {
     "data": {
      "text/html": [
       "<div>\n",
       "<style scoped>\n",
       "    .dataframe tbody tr th:only-of-type {\n",
       "        vertical-align: middle;\n",
       "    }\n",
       "\n",
       "    .dataframe tbody tr th {\n",
       "        vertical-align: top;\n",
       "    }\n",
       "\n",
       "    .dataframe thead th {\n",
       "        text-align: right;\n",
       "    }\n",
       "</style>\n",
       "<table border=\"1\" class=\"dataframe\">\n",
       "  <thead>\n",
       "    <tr style=\"text-align: right;\">\n",
       "      <th></th>\n",
       "      <th>sub_icb_location_code</th>\n",
       "      <th>sub_icb_location_ons_code</th>\n",
       "      <th>sub_icb_location_name</th>\n",
       "      <th>icb_ons_code</th>\n",
       "      <th>region_ons_code</th>\n",
       "      <th>appointment_date</th>\n",
       "      <th>actual_duration</th>\n",
       "      <th>count_of_appointments</th>\n",
       "    </tr>\n",
       "  </thead>\n",
       "  <tbody>\n",
       "    <tr>\n",
       "      <th>0</th>\n",
       "      <td>00L</td>\n",
       "      <td>E38000130</td>\n",
       "      <td>NHS North East and North Cumbria ICB - 00L</td>\n",
       "      <td>E54000050</td>\n",
       "      <td>E40000012</td>\n",
       "      <td>01-Dec-21</td>\n",
       "      <td>31-60 Minutes</td>\n",
       "      <td>364</td>\n",
       "    </tr>\n",
       "    <tr>\n",
       "      <th>1</th>\n",
       "      <td>00L</td>\n",
       "      <td>E38000130</td>\n",
       "      <td>NHS North East and North Cumbria ICB - 00L</td>\n",
       "      <td>E54000050</td>\n",
       "      <td>E40000012</td>\n",
       "      <td>01-Dec-21</td>\n",
       "      <td>21-30 Minutes</td>\n",
       "      <td>619</td>\n",
       "    </tr>\n",
       "    <tr>\n",
       "      <th>2</th>\n",
       "      <td>00L</td>\n",
       "      <td>E38000130</td>\n",
       "      <td>NHS North East and North Cumbria ICB - 00L</td>\n",
       "      <td>E54000050</td>\n",
       "      <td>E40000012</td>\n",
       "      <td>01-Dec-21</td>\n",
       "      <td>6-10 Minutes</td>\n",
       "      <td>1698</td>\n",
       "    </tr>\n",
       "    <tr>\n",
       "      <th>3</th>\n",
       "      <td>00L</td>\n",
       "      <td>E38000130</td>\n",
       "      <td>NHS North East and North Cumbria ICB - 00L</td>\n",
       "      <td>E54000050</td>\n",
       "      <td>E40000012</td>\n",
       "      <td>01-Dec-21</td>\n",
       "      <td>Unknown / Data Quality</td>\n",
       "      <td>1277</td>\n",
       "    </tr>\n",
       "    <tr>\n",
       "      <th>4</th>\n",
       "      <td>00L</td>\n",
       "      <td>E38000130</td>\n",
       "      <td>NHS North East and North Cumbria ICB - 00L</td>\n",
       "      <td>E54000050</td>\n",
       "      <td>E40000012</td>\n",
       "      <td>01-Dec-21</td>\n",
       "      <td>16-20 Minutes</td>\n",
       "      <td>730</td>\n",
       "    </tr>\n",
       "  </tbody>\n",
       "</table>\n",
       "</div>"
      ],
      "text/plain": [
       "  sub_icb_location_code sub_icb_location_ons_code  \\\n",
       "0                   00L                 E38000130   \n",
       "1                   00L                 E38000130   \n",
       "2                   00L                 E38000130   \n",
       "3                   00L                 E38000130   \n",
       "4                   00L                 E38000130   \n",
       "\n",
       "                        sub_icb_location_name icb_ons_code region_ons_code  \\\n",
       "0  NHS North East and North Cumbria ICB - 00L    E54000050       E40000012   \n",
       "1  NHS North East and North Cumbria ICB - 00L    E54000050       E40000012   \n",
       "2  NHS North East and North Cumbria ICB - 00L    E54000050       E40000012   \n",
       "3  NHS North East and North Cumbria ICB - 00L    E54000050       E40000012   \n",
       "4  NHS North East and North Cumbria ICB - 00L    E54000050       E40000012   \n",
       "\n",
       "  appointment_date         actual_duration  count_of_appointments  \n",
       "0        01-Dec-21           31-60 Minutes                    364  \n",
       "1        01-Dec-21           21-30 Minutes                    619  \n",
       "2        01-Dec-21            6-10 Minutes                   1698  \n",
       "3        01-Dec-21  Unknown / Data Quality                   1277  \n",
       "4        01-Dec-21           16-20 Minutes                    730  "
      ]
     },
     "execution_count": 25,
     "metadata": {},
     "output_type": "execute_result"
    }
   ],
   "source": [
    "# View the first five rows of appointment_date for the ad DataFrame to determine the date format.\n",
    "ad.head()"
   ]
  },
  {
   "cell_type": "code",
   "execution_count": 26,
   "id": "d32fb602",
   "metadata": {},
   "outputs": [
    {
     "data": {
      "text/html": [
       "<div>\n",
       "<style scoped>\n",
       "    .dataframe tbody tr th:only-of-type {\n",
       "        vertical-align: middle;\n",
       "    }\n",
       "\n",
       "    .dataframe tbody tr th {\n",
       "        vertical-align: top;\n",
       "    }\n",
       "\n",
       "    .dataframe thead th {\n",
       "        text-align: right;\n",
       "    }\n",
       "</style>\n",
       "<table border=\"1\" class=\"dataframe\">\n",
       "  <thead>\n",
       "    <tr style=\"text-align: right;\">\n",
       "      <th></th>\n",
       "      <th>appointment_date</th>\n",
       "      <th>icb_ons_code</th>\n",
       "      <th>sub_icb_location_name</th>\n",
       "      <th>service_setting</th>\n",
       "      <th>context_type</th>\n",
       "      <th>national_category</th>\n",
       "      <th>count_of_appointments</th>\n",
       "      <th>appointment_month</th>\n",
       "    </tr>\n",
       "  </thead>\n",
       "  <tbody>\n",
       "    <tr>\n",
       "      <th>0</th>\n",
       "      <td>2021-08-02</td>\n",
       "      <td>E54000050</td>\n",
       "      <td>NHS North East and North Cumbria ICB - 00L</td>\n",
       "      <td>Primary Care Network</td>\n",
       "      <td>Care Related Encounter</td>\n",
       "      <td>Patient contact during Care Home Round</td>\n",
       "      <td>3</td>\n",
       "      <td>2021-08</td>\n",
       "    </tr>\n",
       "    <tr>\n",
       "      <th>1</th>\n",
       "      <td>2021-08-02</td>\n",
       "      <td>E54000050</td>\n",
       "      <td>NHS North East and North Cumbria ICB - 00L</td>\n",
       "      <td>Other</td>\n",
       "      <td>Care Related Encounter</td>\n",
       "      <td>Planned Clinics</td>\n",
       "      <td>7</td>\n",
       "      <td>2021-08</td>\n",
       "    </tr>\n",
       "    <tr>\n",
       "      <th>2</th>\n",
       "      <td>2021-08-02</td>\n",
       "      <td>E54000050</td>\n",
       "      <td>NHS North East and North Cumbria ICB - 00L</td>\n",
       "      <td>General Practice</td>\n",
       "      <td>Care Related Encounter</td>\n",
       "      <td>Home Visit</td>\n",
       "      <td>79</td>\n",
       "      <td>2021-08</td>\n",
       "    </tr>\n",
       "    <tr>\n",
       "      <th>3</th>\n",
       "      <td>2021-08-02</td>\n",
       "      <td>E54000050</td>\n",
       "      <td>NHS North East and North Cumbria ICB - 00L</td>\n",
       "      <td>General Practice</td>\n",
       "      <td>Care Related Encounter</td>\n",
       "      <td>General Consultation Acute</td>\n",
       "      <td>725</td>\n",
       "      <td>2021-08</td>\n",
       "    </tr>\n",
       "    <tr>\n",
       "      <th>4</th>\n",
       "      <td>2021-08-02</td>\n",
       "      <td>E54000050</td>\n",
       "      <td>NHS North East and North Cumbria ICB - 00L</td>\n",
       "      <td>General Practice</td>\n",
       "      <td>Care Related Encounter</td>\n",
       "      <td>Structured Medication Review</td>\n",
       "      <td>2</td>\n",
       "      <td>2021-08</td>\n",
       "    </tr>\n",
       "  </tbody>\n",
       "</table>\n",
       "</div>"
      ],
      "text/plain": [
       "  appointment_date icb_ons_code                       sub_icb_location_name  \\\n",
       "0       2021-08-02    E54000050  NHS North East and North Cumbria ICB - 00L   \n",
       "1       2021-08-02    E54000050  NHS North East and North Cumbria ICB - 00L   \n",
       "2       2021-08-02    E54000050  NHS North East and North Cumbria ICB - 00L   \n",
       "3       2021-08-02    E54000050  NHS North East and North Cumbria ICB - 00L   \n",
       "4       2021-08-02    E54000050  NHS North East and North Cumbria ICB - 00L   \n",
       "\n",
       "        service_setting            context_type  \\\n",
       "0  Primary Care Network  Care Related Encounter   \n",
       "1                 Other  Care Related Encounter   \n",
       "2      General Practice  Care Related Encounter   \n",
       "3      General Practice  Care Related Encounter   \n",
       "4      General Practice  Care Related Encounter   \n",
       "\n",
       "                        national_category  count_of_appointments  \\\n",
       "0  Patient contact during Care Home Round                      3   \n",
       "1                         Planned Clinics                      7   \n",
       "2                              Home Visit                     79   \n",
       "3              General Consultation Acute                    725   \n",
       "4            Structured Medication Review                      2   \n",
       "\n",
       "  appointment_month  \n",
       "0           2021-08  \n",
       "1           2021-08  \n",
       "2           2021-08  \n",
       "3           2021-08  \n",
       "4           2021-08  "
      ]
     },
     "execution_count": 26,
     "metadata": {},
     "output_type": "execute_result"
    }
   ],
   "source": [
    "# View the first five rows of appointment_date for the nc DataFrame to determine the date format.\n",
    "nc.head()"
   ]
  },
  {
   "cell_type": "code",
   "execution_count": 55,
   "id": "05a60b63",
   "metadata": {},
   "outputs": [
    {
     "data": {
      "text/html": [
       "<div>\n",
       "<style scoped>\n",
       "    .dataframe tbody tr th:only-of-type {\n",
       "        vertical-align: middle;\n",
       "    }\n",
       "\n",
       "    .dataframe tbody tr th {\n",
       "        vertical-align: top;\n",
       "    }\n",
       "\n",
       "    .dataframe thead th {\n",
       "        text-align: right;\n",
       "    }\n",
       "</style>\n",
       "<table border=\"1\" class=\"dataframe\">\n",
       "  <thead>\n",
       "    <tr style=\"text-align: right;\">\n",
       "      <th></th>\n",
       "      <th>sub_icb_location_code</th>\n",
       "      <th>sub_icb_location_ons_code</th>\n",
       "      <th>sub_icb_location_name</th>\n",
       "      <th>icb_ons_code</th>\n",
       "      <th>region_ons_code</th>\n",
       "      <th>appointment_date</th>\n",
       "      <th>actual_duration</th>\n",
       "      <th>count_of_appointments</th>\n",
       "    </tr>\n",
       "  </thead>\n",
       "  <tbody>\n",
       "    <tr>\n",
       "      <th>0</th>\n",
       "      <td>00L</td>\n",
       "      <td>E38000130</td>\n",
       "      <td>NHS North East and North Cumbria ICB - 00L</td>\n",
       "      <td>E54000050</td>\n",
       "      <td>E40000012</td>\n",
       "      <td>2021-12-01</td>\n",
       "      <td>31-60 Minutes</td>\n",
       "      <td>364</td>\n",
       "    </tr>\n",
       "    <tr>\n",
       "      <th>1</th>\n",
       "      <td>00L</td>\n",
       "      <td>E38000130</td>\n",
       "      <td>NHS North East and North Cumbria ICB - 00L</td>\n",
       "      <td>E54000050</td>\n",
       "      <td>E40000012</td>\n",
       "      <td>2021-12-01</td>\n",
       "      <td>21-30 Minutes</td>\n",
       "      <td>619</td>\n",
       "    </tr>\n",
       "    <tr>\n",
       "      <th>2</th>\n",
       "      <td>00L</td>\n",
       "      <td>E38000130</td>\n",
       "      <td>NHS North East and North Cumbria ICB - 00L</td>\n",
       "      <td>E54000050</td>\n",
       "      <td>E40000012</td>\n",
       "      <td>2021-12-01</td>\n",
       "      <td>6-10 Minutes</td>\n",
       "      <td>1698</td>\n",
       "    </tr>\n",
       "    <tr>\n",
       "      <th>3</th>\n",
       "      <td>00L</td>\n",
       "      <td>E38000130</td>\n",
       "      <td>NHS North East and North Cumbria ICB - 00L</td>\n",
       "      <td>E54000050</td>\n",
       "      <td>E40000012</td>\n",
       "      <td>2021-12-01</td>\n",
       "      <td>Unknown / Data Quality</td>\n",
       "      <td>1277</td>\n",
       "    </tr>\n",
       "    <tr>\n",
       "      <th>4</th>\n",
       "      <td>00L</td>\n",
       "      <td>E38000130</td>\n",
       "      <td>NHS North East and North Cumbria ICB - 00L</td>\n",
       "      <td>E54000050</td>\n",
       "      <td>E40000012</td>\n",
       "      <td>2021-12-01</td>\n",
       "      <td>16-20 Minutes</td>\n",
       "      <td>730</td>\n",
       "    </tr>\n",
       "  </tbody>\n",
       "</table>\n",
       "</div>"
      ],
      "text/plain": [
       "  sub_icb_location_code sub_icb_location_ons_code  \\\n",
       "0                   00L                 E38000130   \n",
       "1                   00L                 E38000130   \n",
       "2                   00L                 E38000130   \n",
       "3                   00L                 E38000130   \n",
       "4                   00L                 E38000130   \n",
       "\n",
       "                        sub_icb_location_name icb_ons_code region_ons_code  \\\n",
       "0  NHS North East and North Cumbria ICB - 00L    E54000050       E40000012   \n",
       "1  NHS North East and North Cumbria ICB - 00L    E54000050       E40000012   \n",
       "2  NHS North East and North Cumbria ICB - 00L    E54000050       E40000012   \n",
       "3  NHS North East and North Cumbria ICB - 00L    E54000050       E40000012   \n",
       "4  NHS North East and North Cumbria ICB - 00L    E54000050       E40000012   \n",
       "\n",
       "  appointment_date         actual_duration  count_of_appointments  \n",
       "0       2021-12-01           31-60 Minutes                    364  \n",
       "1       2021-12-01           21-30 Minutes                    619  \n",
       "2       2021-12-01            6-10 Minutes                   1698  \n",
       "3       2021-12-01  Unknown / Data Quality                   1277  \n",
       "4       2021-12-01           16-20 Minutes                    730  "
      ]
     },
     "execution_count": 55,
     "metadata": {},
     "output_type": "execute_result"
    }
   ],
   "source": [
    "# Change the date format of ad['appointment_date'].\n",
    "ad['appointment_date'] = pd.to_datetime(ad['appointment_date'])\n",
    "\n",
    "# View the DateFrame.\n",
    "ad.head()"
   ]
  },
  {
   "cell_type": "code",
   "execution_count": 53,
   "id": "b73db1bf",
   "metadata": {},
   "outputs": [
    {
     "data": {
      "text/html": [
       "<div>\n",
       "<style scoped>\n",
       "    .dataframe tbody tr th:only-of-type {\n",
       "        vertical-align: middle;\n",
       "    }\n",
       "\n",
       "    .dataframe tbody tr th {\n",
       "        vertical-align: top;\n",
       "    }\n",
       "\n",
       "    .dataframe thead th {\n",
       "        text-align: right;\n",
       "    }\n",
       "</style>\n",
       "<table border=\"1\" class=\"dataframe\">\n",
       "  <thead>\n",
       "    <tr style=\"text-align: right;\">\n",
       "      <th></th>\n",
       "      <th>appointment_date</th>\n",
       "      <th>icb_ons_code</th>\n",
       "      <th>sub_icb_location_name</th>\n",
       "      <th>service_setting</th>\n",
       "      <th>context_type</th>\n",
       "      <th>national_category</th>\n",
       "      <th>count_of_appointments</th>\n",
       "      <th>appointment_month</th>\n",
       "    </tr>\n",
       "  </thead>\n",
       "  <tbody>\n",
       "    <tr>\n",
       "      <th>0</th>\n",
       "      <td>2021-08-02</td>\n",
       "      <td>E54000050</td>\n",
       "      <td>NHS North East and North Cumbria ICB - 00L</td>\n",
       "      <td>Primary Care Network</td>\n",
       "      <td>Care Related Encounter</td>\n",
       "      <td>Patient contact during Care Home Round</td>\n",
       "      <td>3</td>\n",
       "      <td>2021-08</td>\n",
       "    </tr>\n",
       "    <tr>\n",
       "      <th>1</th>\n",
       "      <td>2021-08-02</td>\n",
       "      <td>E54000050</td>\n",
       "      <td>NHS North East and North Cumbria ICB - 00L</td>\n",
       "      <td>Other</td>\n",
       "      <td>Care Related Encounter</td>\n",
       "      <td>Planned Clinics</td>\n",
       "      <td>7</td>\n",
       "      <td>2021-08</td>\n",
       "    </tr>\n",
       "    <tr>\n",
       "      <th>2</th>\n",
       "      <td>2021-08-02</td>\n",
       "      <td>E54000050</td>\n",
       "      <td>NHS North East and North Cumbria ICB - 00L</td>\n",
       "      <td>General Practice</td>\n",
       "      <td>Care Related Encounter</td>\n",
       "      <td>Home Visit</td>\n",
       "      <td>79</td>\n",
       "      <td>2021-08</td>\n",
       "    </tr>\n",
       "    <tr>\n",
       "      <th>3</th>\n",
       "      <td>2021-08-02</td>\n",
       "      <td>E54000050</td>\n",
       "      <td>NHS North East and North Cumbria ICB - 00L</td>\n",
       "      <td>General Practice</td>\n",
       "      <td>Care Related Encounter</td>\n",
       "      <td>General Consultation Acute</td>\n",
       "      <td>725</td>\n",
       "      <td>2021-08</td>\n",
       "    </tr>\n",
       "    <tr>\n",
       "      <th>4</th>\n",
       "      <td>2021-08-02</td>\n",
       "      <td>E54000050</td>\n",
       "      <td>NHS North East and North Cumbria ICB - 00L</td>\n",
       "      <td>General Practice</td>\n",
       "      <td>Care Related Encounter</td>\n",
       "      <td>Structured Medication Review</td>\n",
       "      <td>2</td>\n",
       "      <td>2021-08</td>\n",
       "    </tr>\n",
       "    <tr>\n",
       "      <th>...</th>\n",
       "      <td>...</td>\n",
       "      <td>...</td>\n",
       "      <td>...</td>\n",
       "      <td>...</td>\n",
       "      <td>...</td>\n",
       "      <td>...</td>\n",
       "      <td>...</td>\n",
       "      <td>...</td>\n",
       "    </tr>\n",
       "    <tr>\n",
       "      <th>817389</th>\n",
       "      <td>2022-06-30</td>\n",
       "      <td>E54000054</td>\n",
       "      <td>NHS West Yorkshire ICB - X2C4Y</td>\n",
       "      <td>Extended Access Provision</td>\n",
       "      <td>Care Related Encounter</td>\n",
       "      <td>Unplanned Clinical Activity</td>\n",
       "      <td>12</td>\n",
       "      <td>2022-06</td>\n",
       "    </tr>\n",
       "    <tr>\n",
       "      <th>817390</th>\n",
       "      <td>2022-06-30</td>\n",
       "      <td>E54000054</td>\n",
       "      <td>NHS West Yorkshire ICB - X2C4Y</td>\n",
       "      <td>Extended Access Provision</td>\n",
       "      <td>Care Related Encounter</td>\n",
       "      <td>Planned Clinics</td>\n",
       "      <td>4</td>\n",
       "      <td>2022-06</td>\n",
       "    </tr>\n",
       "    <tr>\n",
       "      <th>817391</th>\n",
       "      <td>2022-06-30</td>\n",
       "      <td>E54000054</td>\n",
       "      <td>NHS West Yorkshire ICB - X2C4Y</td>\n",
       "      <td>Extended Access Provision</td>\n",
       "      <td>Care Related Encounter</td>\n",
       "      <td>Planned Clinical Procedure</td>\n",
       "      <td>92</td>\n",
       "      <td>2022-06</td>\n",
       "    </tr>\n",
       "    <tr>\n",
       "      <th>817392</th>\n",
       "      <td>2022-06-30</td>\n",
       "      <td>E54000054</td>\n",
       "      <td>NHS West Yorkshire ICB - X2C4Y</td>\n",
       "      <td>Extended Access Provision</td>\n",
       "      <td>Care Related Encounter</td>\n",
       "      <td>General Consultation Routine</td>\n",
       "      <td>4</td>\n",
       "      <td>2022-06</td>\n",
       "    </tr>\n",
       "    <tr>\n",
       "      <th>817393</th>\n",
       "      <td>2022-06-30</td>\n",
       "      <td>E54000054</td>\n",
       "      <td>NHS West Yorkshire ICB - X2C4Y</td>\n",
       "      <td>Extended Access Provision</td>\n",
       "      <td>Care Related Encounter</td>\n",
       "      <td>General Consultation Acute</td>\n",
       "      <td>19</td>\n",
       "      <td>2022-06</td>\n",
       "    </tr>\n",
       "  </tbody>\n",
       "</table>\n",
       "<p>817394 rows × 8 columns</p>\n",
       "</div>"
      ],
      "text/plain": [
       "       appointment_date icb_ons_code  \\\n",
       "0            2021-08-02    E54000050   \n",
       "1            2021-08-02    E54000050   \n",
       "2            2021-08-02    E54000050   \n",
       "3            2021-08-02    E54000050   \n",
       "4            2021-08-02    E54000050   \n",
       "...                 ...          ...   \n",
       "817389       2022-06-30    E54000054   \n",
       "817390       2022-06-30    E54000054   \n",
       "817391       2022-06-30    E54000054   \n",
       "817392       2022-06-30    E54000054   \n",
       "817393       2022-06-30    E54000054   \n",
       "\n",
       "                             sub_icb_location_name            service_setting  \\\n",
       "0       NHS North East and North Cumbria ICB - 00L       Primary Care Network   \n",
       "1       NHS North East and North Cumbria ICB - 00L                      Other   \n",
       "2       NHS North East and North Cumbria ICB - 00L           General Practice   \n",
       "3       NHS North East and North Cumbria ICB - 00L           General Practice   \n",
       "4       NHS North East and North Cumbria ICB - 00L           General Practice   \n",
       "...                                            ...                        ...   \n",
       "817389              NHS West Yorkshire ICB - X2C4Y  Extended Access Provision   \n",
       "817390              NHS West Yorkshire ICB - X2C4Y  Extended Access Provision   \n",
       "817391              NHS West Yorkshire ICB - X2C4Y  Extended Access Provision   \n",
       "817392              NHS West Yorkshire ICB - X2C4Y  Extended Access Provision   \n",
       "817393              NHS West Yorkshire ICB - X2C4Y  Extended Access Provision   \n",
       "\n",
       "                  context_type                       national_category  \\\n",
       "0       Care Related Encounter  Patient contact during Care Home Round   \n",
       "1       Care Related Encounter                         Planned Clinics   \n",
       "2       Care Related Encounter                              Home Visit   \n",
       "3       Care Related Encounter              General Consultation Acute   \n",
       "4       Care Related Encounter            Structured Medication Review   \n",
       "...                        ...                                     ...   \n",
       "817389  Care Related Encounter             Unplanned Clinical Activity   \n",
       "817390  Care Related Encounter                         Planned Clinics   \n",
       "817391  Care Related Encounter              Planned Clinical Procedure   \n",
       "817392  Care Related Encounter            General Consultation Routine   \n",
       "817393  Care Related Encounter              General Consultation Acute   \n",
       "\n",
       "        count_of_appointments appointment_month  \n",
       "0                           3           2021-08  \n",
       "1                           7           2021-08  \n",
       "2                          79           2021-08  \n",
       "3                         725           2021-08  \n",
       "4                           2           2021-08  \n",
       "...                       ...               ...  \n",
       "817389                     12           2022-06  \n",
       "817390                      4           2022-06  \n",
       "817391                     92           2022-06  \n",
       "817392                      4           2022-06  \n",
       "817393                     19           2022-06  \n",
       "\n",
       "[817394 rows x 8 columns]"
      ]
     },
     "metadata": {},
     "output_type": "display_data"
    }
   ],
   "source": [
    "# Change the date format of nc['appointment_date'].\n",
    "nc['appointment_date'] = pd.to_datetime(nc['appointment_date'])\n",
    "\n",
    "# View the DateFrame.\n",
    "display(nc)"
   ]
  },
  {
   "cell_type": "code",
   "execution_count": 56,
   "id": "28e6b2fa",
   "metadata": {},
   "outputs": [
    {
     "name": "stdout",
     "output_type": "stream",
     "text": [
      "Minimum date of ad: 2021-12-01 00:00:00\n",
      "Maximum date of ad: 2022-06-30 00:00:00\n"
     ]
    }
   ],
   "source": [
    "# Determine the minimum and maximum dates in the ad DataFrame.\n",
    "# Use appropriate docstrings.\n",
    "print(f\"Minimum date of ad: {ad['appointment_date'].min()}\")\n",
    "print(f\"Maximum date of ad: {ad['appointment_date'].max()}\")"
   ]
  },
  {
   "cell_type": "code",
   "execution_count": 57,
   "id": "87072228",
   "metadata": {},
   "outputs": [
    {
     "name": "stdout",
     "output_type": "stream",
     "text": [
      "Minimum date of nc: 2021-08-01 00:00:00\n",
      "Maximum date of nc: 2022-06-30 00:00:00\n"
     ]
    }
   ],
   "source": [
    "# Determine the minimum and maximum dates in the nc DataFrame.\n",
    "# Use appropriate docstrings.\n",
    "print(f\"Minimum date of nc: {nc['appointment_date'].min()}\")\n",
    "print(f\"Maximum date of nc: {nc['appointment_date'].max()}\")"
   ]
  },
  {
   "cell_type": "markdown",
   "id": "f41ad664",
   "metadata": {},
   "source": [
    "**Question 2:** Which service setting was the most popular for NHS North West London from 1 January to 1 June 2022?"
   ]
  },
  {
   "cell_type": "code",
   "execution_count": 72,
   "id": "b577ca5f",
   "metadata": {},
   "outputs": [
    {
     "data": {
      "text/plain": [
       "General Practice             2104\n",
       "Other                        1318\n",
       "Primary Care Network         1272\n",
       "Extended Access Provision    1090\n",
       "Unmapped                      152\n",
       "Name: service_setting, dtype: int64"
      ]
     },
     "execution_count": 72,
     "metadata": {},
     "output_type": "execute_result"
    }
   ],
   "source": [
    "# For each of these service settings, determine the number of records available for the period and the location. \n",
    "nc_subset = nc[nc['sub_icb_location_name'] == 'NHS North West London ICB - W2U3Z']\n",
    "nc_subset_range = nc_subset[(nc_subset['appointment_date'] >= '2022-01-01') & (nc_subset['appointment_date'] <= '2022-06-01')]\n",
    "\n",
    "# View the output.\n",
    "nc_subset_range['service_setting'].value_counts()"
   ]
  },
  {
   "cell_type": "markdown",
   "id": "7ac94132",
   "metadata": {},
   "source": [
    "**Question 3:** Which month had the highest number of appointments?"
   ]
  },
  {
   "cell_type": "code",
   "execution_count": 67,
   "id": "6084c6d1",
   "metadata": {},
   "outputs": [
    {
     "data": {
      "text/html": [
       "<div>\n",
       "<style scoped>\n",
       "    .dataframe tbody tr th:only-of-type {\n",
       "        vertical-align: middle;\n",
       "    }\n",
       "\n",
       "    .dataframe tbody tr th {\n",
       "        vertical-align: top;\n",
       "    }\n",
       "\n",
       "    .dataframe thead th {\n",
       "        text-align: right;\n",
       "    }\n",
       "</style>\n",
       "<table border=\"1\" class=\"dataframe\">\n",
       "  <thead>\n",
       "    <tr style=\"text-align: right;\">\n",
       "      <th></th>\n",
       "      <th>count_of_appointments</th>\n",
       "    </tr>\n",
       "    <tr>\n",
       "      <th>appointment_month</th>\n",
       "      <th></th>\n",
       "    </tr>\n",
       "  </thead>\n",
       "  <tbody>\n",
       "    <tr>\n",
       "      <th>2021-11</th>\n",
       "      <td>30405070</td>\n",
       "    </tr>\n",
       "    <tr>\n",
       "      <th>2021-10</th>\n",
       "      <td>30303834</td>\n",
       "    </tr>\n",
       "    <tr>\n",
       "      <th>2022-03</th>\n",
       "      <td>29595038</td>\n",
       "    </tr>\n",
       "    <tr>\n",
       "      <th>2021-09</th>\n",
       "      <td>28522501</td>\n",
       "    </tr>\n",
       "    <tr>\n",
       "      <th>2022-05</th>\n",
       "      <td>27495508</td>\n",
       "    </tr>\n",
       "    <tr>\n",
       "      <th>2022-06</th>\n",
       "      <td>25828078</td>\n",
       "    </tr>\n",
       "    <tr>\n",
       "      <th>2022-01</th>\n",
       "      <td>25635474</td>\n",
       "    </tr>\n",
       "    <tr>\n",
       "      <th>2022-02</th>\n",
       "      <td>25355260</td>\n",
       "    </tr>\n",
       "    <tr>\n",
       "      <th>2021-12</th>\n",
       "      <td>25140776</td>\n",
       "    </tr>\n",
       "    <tr>\n",
       "      <th>2022-04</th>\n",
       "      <td>23913060</td>\n",
       "    </tr>\n",
       "    <tr>\n",
       "      <th>2021-08</th>\n",
       "      <td>23852171</td>\n",
       "    </tr>\n",
       "  </tbody>\n",
       "</table>\n",
       "</div>"
      ],
      "text/plain": [
       "                   count_of_appointments\n",
       "appointment_month                       \n",
       "2021-11                         30405070\n",
       "2021-10                         30303834\n",
       "2022-03                         29595038\n",
       "2021-09                         28522501\n",
       "2022-05                         27495508\n",
       "2022-06                         25828078\n",
       "2022-01                         25635474\n",
       "2022-02                         25355260\n",
       "2021-12                         25140776\n",
       "2022-04                         23913060\n",
       "2021-08                         23852171"
      ]
     },
     "execution_count": 67,
     "metadata": {},
     "output_type": "execute_result"
    }
   ],
   "source": [
    "# Number of appointments per month == sum of count_of_appointments by month.\n",
    "# Use the groupby() and sort_values() functions.\n",
    "\n",
    "nc.groupby('appointment_month')[['count_of_appointments']].sum().sort_values('count_of_appointments', ascending=False)\n"
   ]
  },
  {
   "cell_type": "markdown",
   "id": "b28a49a5",
   "metadata": {},
   "source": [
    "**Question 4:** What was the total number of records per month?"
   ]
  },
  {
   "cell_type": "code",
   "execution_count": 74,
   "id": "00668a95",
   "metadata": {},
   "outputs": [
    {
     "data": {
      "text/html": [
       "<div>\n",
       "<style scoped>\n",
       "    .dataframe tbody tr th:only-of-type {\n",
       "        vertical-align: middle;\n",
       "    }\n",
       "\n",
       "    .dataframe tbody tr th {\n",
       "        vertical-align: top;\n",
       "    }\n",
       "\n",
       "    .dataframe thead th {\n",
       "        text-align: right;\n",
       "    }\n",
       "</style>\n",
       "<table border=\"1\" class=\"dataframe\">\n",
       "  <thead>\n",
       "    <tr style=\"text-align: right;\">\n",
       "      <th></th>\n",
       "      <th>count_of_appointments</th>\n",
       "    </tr>\n",
       "    <tr>\n",
       "      <th>appointment_month</th>\n",
       "      <th></th>\n",
       "    </tr>\n",
       "  </thead>\n",
       "  <tbody>\n",
       "    <tr>\n",
       "      <th>2021-08</th>\n",
       "      <td>69999</td>\n",
       "    </tr>\n",
       "    <tr>\n",
       "      <th>2021-09</th>\n",
       "      <td>74922</td>\n",
       "    </tr>\n",
       "    <tr>\n",
       "      <th>2021-10</th>\n",
       "      <td>74078</td>\n",
       "    </tr>\n",
       "    <tr>\n",
       "      <th>2021-11</th>\n",
       "      <td>77652</td>\n",
       "    </tr>\n",
       "    <tr>\n",
       "      <th>2021-12</th>\n",
       "      <td>72651</td>\n",
       "    </tr>\n",
       "    <tr>\n",
       "      <th>2022-01</th>\n",
       "      <td>71896</td>\n",
       "    </tr>\n",
       "    <tr>\n",
       "      <th>2022-02</th>\n",
       "      <td>71769</td>\n",
       "    </tr>\n",
       "    <tr>\n",
       "      <th>2022-03</th>\n",
       "      <td>82822</td>\n",
       "    </tr>\n",
       "    <tr>\n",
       "      <th>2022-04</th>\n",
       "      <td>70012</td>\n",
       "    </tr>\n",
       "    <tr>\n",
       "      <th>2022-05</th>\n",
       "      <td>77425</td>\n",
       "    </tr>\n",
       "    <tr>\n",
       "      <th>2022-06</th>\n",
       "      <td>74168</td>\n",
       "    </tr>\n",
       "  </tbody>\n",
       "</table>\n",
       "</div>"
      ],
      "text/plain": [
       "                   count_of_appointments\n",
       "appointment_month                       \n",
       "2021-08                            69999\n",
       "2021-09                            74922\n",
       "2021-10                            74078\n",
       "2021-11                            77652\n",
       "2021-12                            72651\n",
       "2022-01                            71896\n",
       "2022-02                            71769\n",
       "2022-03                            82822\n",
       "2022-04                            70012\n",
       "2022-05                            77425\n",
       "2022-06                            74168"
      ]
     },
     "execution_count": 74,
     "metadata": {},
     "output_type": "execute_result"
    }
   ],
   "source": [
    "# Total number of records per month.\n",
    "nc.groupby('appointment_month')[['count_of_appointments']].count()"
   ]
  },
  {
   "cell_type": "markdown",
   "id": "7aba0dca",
   "metadata": {},
   "source": [
    "# "
   ]
  },
  {
   "cell_type": "markdown",
   "id": "3a2caa91",
   "metadata": {},
   "source": [
    "# Assignment activity 4"
   ]
  },
  {
   "cell_type": "markdown",
   "id": "946a2948",
   "metadata": {},
   "source": [
    "### Create visualisations and identify possible monthly and seasonal trends in the data."
   ]
  },
  {
   "cell_type": "code",
   "execution_count": null,
   "id": "c833e1ab",
   "metadata": {},
   "outputs": [],
   "source": [
    "# Import the necessary libraries.\n",
    "import seaborn as sns\n",
    "import matplotlib.pyplot as plt\n",
    "\n",
    "# Set figure size.\n",
    "sns.set(rc={'figure.figsize':(15, 12)})\n",
    "\n",
    "# Set the plot style as white.\n",
    "sns.set_style('white')"
   ]
  },
  {
   "cell_type": "markdown",
   "id": "9bb9d65d",
   "metadata": {},
   "source": [
    "### Objective 1\n",
    "Create three visualisations indicating the number of appointments per month for service settings, context types, and national categories."
   ]
  },
  {
   "cell_type": "code",
   "execution_count": null,
   "id": "e1ba886c",
   "metadata": {},
   "outputs": [],
   "source": [
    "# Change the data type of the appointment month to string to allow for easier plotting.\n"
   ]
  },
  {
   "cell_type": "code",
   "execution_count": null,
   "id": "63160f27",
   "metadata": {},
   "outputs": [],
   "source": [
    "# Aggregate on monthly level and determine the sum of records per month.\n",
    "\n",
    "\n",
    "# View output.\n"
   ]
  },
  {
   "cell_type": "markdown",
   "id": "b82916ae",
   "metadata": {},
   "source": [
    "**Service settings:**"
   ]
  },
  {
   "cell_type": "code",
   "execution_count": null,
   "id": "485b51c6",
   "metadata": {},
   "outputs": [],
   "source": [
    "# Plot the appointments over the available date range, and review the service settings for months.\n",
    "# Create a lineplot.\n"
   ]
  },
  {
   "cell_type": "markdown",
   "id": "8145c8d9",
   "metadata": {},
   "source": [
    "**Context types:**"
   ]
  },
  {
   "cell_type": "code",
   "execution_count": null,
   "id": "1f23e5f8",
   "metadata": {},
   "outputs": [],
   "source": [
    "# Create a separate data set that can be used in future weeks. \n",
    "\n",
    "\n",
    "# View output.\n"
   ]
  },
  {
   "cell_type": "code",
   "execution_count": null,
   "id": "ca2aa462",
   "metadata": {},
   "outputs": [],
   "source": [
    "# Plot the appointments over the available date range, and review the context types for months.\n",
    "# Create a lineplot.\n"
   ]
  },
  {
   "cell_type": "markdown",
   "id": "e7d64afe",
   "metadata": {},
   "source": [
    "**National categories:**"
   ]
  },
  {
   "cell_type": "code",
   "execution_count": null,
   "id": "3b22addb",
   "metadata": {},
   "outputs": [],
   "source": [
    "# Create a separate data set that can be used in future weeks. \n",
    "\n",
    "\n",
    "# View output.\n"
   ]
  },
  {
   "cell_type": "code",
   "execution_count": null,
   "id": "6ccc0541",
   "metadata": {},
   "outputs": [],
   "source": [
    "# Plot the appointments over the available date range, and review the national categories for months.\n",
    "# Create a lineplot.\n"
   ]
  },
  {
   "cell_type": "markdown",
   "id": "a8e70f6b",
   "metadata": {},
   "source": [
    "### Objective 2\n",
    "Create four visualisations indicating the number of appointments for service setting per season. The seasons are summer (August 2021), autumn (October 2021), winter (January 2022), and spring (April 2022)."
   ]
  },
  {
   "cell_type": "markdown",
   "id": "9f2e1169",
   "metadata": {},
   "source": [
    "**Summer (August 2021):**"
   ]
  },
  {
   "cell_type": "code",
   "execution_count": null,
   "id": "9a3586e8",
   "metadata": {},
   "outputs": [],
   "source": [
    "# Create a separate data set that can be used in future weeks. \n",
    "\n",
    "\n",
    "# View output.\n"
   ]
  },
  {
   "cell_type": "code",
   "execution_count": null,
   "id": "b7f7857c",
   "metadata": {},
   "outputs": [],
   "source": [
    "# Look at August 2021 in more detail to allow a closer look.\n",
    "# Create a lineplot.\n"
   ]
  },
  {
   "cell_type": "markdown",
   "id": "5d356e45",
   "metadata": {},
   "source": [
    "**Autumn (October 2021):**"
   ]
  },
  {
   "cell_type": "code",
   "execution_count": null,
   "id": "fedd3cb6",
   "metadata": {},
   "outputs": [],
   "source": [
    "# Look at October 2021 in more detail to allow a closer look.\n",
    "# Create a lineplot.\n"
   ]
  },
  {
   "cell_type": "markdown",
   "id": "adf4194a",
   "metadata": {},
   "source": [
    "**Winter (January 2022):**"
   ]
  },
  {
   "cell_type": "code",
   "execution_count": null,
   "id": "ffca2ed1",
   "metadata": {},
   "outputs": [],
   "source": [
    "# Look at January 2022 in more detail to allow a closer look.\n",
    "# Create a lineplot.\n"
   ]
  },
  {
   "cell_type": "markdown",
   "id": "fd411d37",
   "metadata": {},
   "source": [
    "**Spring (April 2022):**"
   ]
  },
  {
   "cell_type": "code",
   "execution_count": null,
   "id": "74f43b1d",
   "metadata": {},
   "outputs": [],
   "source": [
    "# Look at April 2022 in more detail to allow a closer look.\n",
    "# Create a lineplot.\n"
   ]
  },
  {
   "cell_type": "markdown",
   "id": "d70b95c0",
   "metadata": {},
   "source": [
    "# "
   ]
  },
  {
   "cell_type": "markdown",
   "id": "d3513fd2",
   "metadata": {},
   "source": [
    "# Assignment activity 5"
   ]
  },
  {
   "cell_type": "markdown",
   "id": "347b2229",
   "metadata": {},
   "source": [
    "### Analyse tweets from Twitter with hashtags related to healthcare in the UK."
   ]
  },
  {
   "cell_type": "code",
   "execution_count": null,
   "id": "06bc19bb",
   "metadata": {},
   "outputs": [],
   "source": [
    "# Libraries and settings needed for analysis\n",
    "import pandas as pd\n",
    "import seaborn as sns\n",
    "\n",
    "# Set figure size.\n",
    "sns.set(rc={'figure.figsize':(15, 12)})\n",
    "\n",
    "# Set the plot style as white.\n",
    "sns.set_style('white')\n",
    "\n",
    "# Maximum column width to display\n",
    "pd.options.display.max_colwidth = 200"
   ]
  },
  {
   "cell_type": "code",
   "execution_count": null,
   "id": "558dec8e",
   "metadata": {},
   "outputs": [],
   "source": [
    "# Load the data set.\n",
    "\n",
    "\n",
    "# View the DataFrame.\n"
   ]
  },
  {
   "cell_type": "code",
   "execution_count": null,
   "id": "b9592370",
   "metadata": {},
   "outputs": [],
   "source": [
    "# Explore the metadata.\n"
   ]
  },
  {
   "cell_type": "code",
   "execution_count": null,
   "id": "9dfcfd06",
   "metadata": {},
   "outputs": [],
   "source": [
    "# Explore the data set.\n"
   ]
  },
  {
   "cell_type": "code",
   "execution_count": null,
   "id": "e2fd27e3",
   "metadata": {},
   "outputs": [],
   "source": [
    "# Would it be useful to only look at retweeted and favourite tweet messages?\n",
    "# Explain your answer.\n"
   ]
  },
  {
   "cell_type": "code",
   "execution_count": null,
   "id": "bb667e2f",
   "metadata": {},
   "outputs": [],
   "source": [
    "# Create a new DataFrame containing only the text.\n",
    "\n",
    "\n",
    "# View the DataFrame.\n"
   ]
  },
  {
   "cell_type": "code",
   "execution_count": null,
   "id": "ce3211b3",
   "metadata": {},
   "outputs": [],
   "source": [
    "# Loop through the messages, and create a list of values containing the # symbol.\n"
   ]
  },
  {
   "cell_type": "code",
   "execution_count": null,
   "id": "111ee38c",
   "metadata": {},
   "outputs": [],
   "source": [
    "# Display the first 30 records.\n"
   ]
  },
  {
   "cell_type": "code",
   "execution_count": null,
   "id": "3127ca56",
   "metadata": {},
   "outputs": [],
   "source": [
    "# Convert the series to a DataFrame in preparation for visualisation.\n",
    "\n",
    "\n",
    "# Rename the columns.\n"
   ]
  },
  {
   "cell_type": "code",
   "execution_count": null,
   "id": "0c7edd19",
   "metadata": {},
   "outputs": [],
   "source": [
    "# Fix the count datatype.\n",
    "\n",
    "\n",
    "# View the result.\n"
   ]
  },
  {
   "cell_type": "code",
   "execution_count": null,
   "id": "1e03f41a",
   "metadata": {},
   "outputs": [],
   "source": [
    "# Display records where the count is larger than 10.\n"
   ]
  },
  {
   "cell_type": "code",
   "execution_count": null,
   "id": "deb872d1",
   "metadata": {},
   "outputs": [],
   "source": [
    "# Create a Seaborn barplot indicating records with a count >10 records.\n"
   ]
  },
  {
   "cell_type": "code",
   "execution_count": null,
   "id": "7174f163",
   "metadata": {},
   "outputs": [],
   "source": [
    "# Create the plot.\n",
    "\n",
    "\n",
    "# View the barplot.\n"
   ]
  },
  {
   "cell_type": "markdown",
   "id": "5534d8ff",
   "metadata": {},
   "source": [
    "# "
   ]
  },
  {
   "cell_type": "markdown",
   "id": "c04eb259",
   "metadata": {},
   "source": [
    "# Assignment activity 6"
   ]
  },
  {
   "cell_type": "markdown",
   "id": "9579ccd5",
   "metadata": {},
   "source": [
    "### Investigate the main cencerns posed by the NHS. "
   ]
  },
  {
   "cell_type": "code",
   "execution_count": null,
   "id": "9e21e577",
   "metadata": {},
   "outputs": [],
   "source": [
    "# Prepare your workstation.\n",
    "# Load the appointments_regional.csv file.\n",
    "\n",
    "\n",
    "# View the DataFrame.\n"
   ]
  },
  {
   "cell_type": "code",
   "execution_count": null,
   "id": "580ed8c0",
   "metadata": {},
   "outputs": [],
   "source": [
    "# Print the min and max dates.\n"
   ]
  },
  {
   "cell_type": "code",
   "execution_count": null,
   "id": "86bef592",
   "metadata": {},
   "outputs": [],
   "source": [
    "# Filter the data set to only look at data from 2021-08 onwards.\n"
   ]
  },
  {
   "cell_type": "markdown",
   "id": "d6e4b4d8",
   "metadata": {},
   "source": [
    "**Question 1:** Should the NHS start looking at increasing staff levels? "
   ]
  },
  {
   "cell_type": "code",
   "execution_count": null,
   "id": "00805db8",
   "metadata": {},
   "outputs": [],
   "source": [
    "# Create an aggregated data set to review the different features.\n",
    "\n",
    "\n",
    "# View the DataFrame.\n"
   ]
  },
  {
   "cell_type": "code",
   "execution_count": null,
   "id": "d55c0532",
   "metadata": {},
   "outputs": [],
   "source": [
    "# Determine the total number of appointments per month.\n",
    "\n",
    "\n",
    "# Add a new column to indicate the average utilisation of services.\n",
    "# Monthly aggregate / 30 to get to a daily value.\n",
    "\n",
    "\n",
    "# View the DataFrame.\n"
   ]
  },
  {
   "cell_type": "code",
   "execution_count": null,
   "id": "76d9e2c2",
   "metadata": {},
   "outputs": [],
   "source": [
    "# Plot sum of count of monthly visits.\n",
    "# Convert the appointment_month to string data type for ease of visualisation.\n",
    "\n",
    "\n",
    "# Create a lineplot with Seaborn.\n"
   ]
  },
  {
   "cell_type": "code",
   "execution_count": null,
   "id": "e47e13f4",
   "metadata": {},
   "outputs": [],
   "source": [
    "# Plot monthly capacity utilisation.\n",
    "\n",
    "\n",
    "# Create a lineplot.\n"
   ]
  },
  {
   "cell_type": "markdown",
   "id": "eb893b06",
   "metadata": {},
   "source": [
    "**Question 2:** How do the healthcare professional types differ over time?"
   ]
  },
  {
   "cell_type": "code",
   "execution_count": null,
   "id": "4179ad07",
   "metadata": {},
   "outputs": [],
   "source": [
    "# Create a line plot to answer the question.\n"
   ]
  },
  {
   "cell_type": "markdown",
   "id": "04d7214b",
   "metadata": {},
   "source": [
    "**Question 3:** Are there significant changes in whether or not visits are attended?"
   ]
  },
  {
   "cell_type": "code",
   "execution_count": null,
   "id": "e04c1fea",
   "metadata": {},
   "outputs": [],
   "source": [
    "# Create a line plot to answer the question.\n"
   ]
  },
  {
   "cell_type": "markdown",
   "id": "7830f29e",
   "metadata": {},
   "source": [
    "**Question 4:** Are there changes in terms of appointment type and the busiest months?"
   ]
  },
  {
   "cell_type": "code",
   "execution_count": null,
   "id": "8b0e203c",
   "metadata": {},
   "outputs": [],
   "source": [
    "# Create a line plot to answer the question.\n"
   ]
  },
  {
   "cell_type": "markdown",
   "id": "56b47fa9",
   "metadata": {},
   "source": [
    "**Question 5:** Are there any trends in time between booking an appointment?"
   ]
  },
  {
   "cell_type": "code",
   "execution_count": null,
   "id": "8197701c",
   "metadata": {},
   "outputs": [],
   "source": [
    "# Create a line plot to answer the question.\n"
   ]
  },
  {
   "cell_type": "markdown",
   "id": "1047943e",
   "metadata": {},
   "source": [
    "**Question 6:** How do the spread of service settings compare?"
   ]
  },
  {
   "cell_type": "code",
   "execution_count": null,
   "id": "b3b6f791",
   "metadata": {},
   "outputs": [],
   "source": [
    "# Let's go back to the national category DataFrame you created in an earlier assignment activity.\n"
   ]
  },
  {
   "cell_type": "code",
   "execution_count": null,
   "id": "85fbdb42",
   "metadata": {},
   "outputs": [],
   "source": [
    "# Create a new DataFrame consisting of the month of appointment and the number of appointments.\n",
    "\n",
    "# View the DataFrame.\n"
   ]
  },
  {
   "cell_type": "code",
   "execution_count": 1,
   "id": "8b524499",
   "metadata": {},
   "outputs": [],
   "source": [
    "# Create a boxplot to investigate spread of service settings.\n"
   ]
  },
  {
   "cell_type": "code",
   "execution_count": null,
   "id": "c8c2c69c",
   "metadata": {},
   "outputs": [],
   "source": [
    "# Create a boxplot to investigate the service settings without GP.\n"
   ]
  },
  {
   "cell_type": "markdown",
   "id": "f3521285",
   "metadata": {},
   "source": [
    "# "
   ]
  },
  {
   "cell_type": "markdown",
   "id": "fdd46686",
   "metadata": {},
   "source": [
    "### Provide a summary of your findings and recommendations based on the analysis."
   ]
  },
  {
   "cell_type": "markdown",
   "id": "afb38a10",
   "metadata": {},
   "source": [
    "> Double click to insert your summary."
   ]
  },
  {
   "cell_type": "code",
   "execution_count": null,
   "id": "4ee5f149",
   "metadata": {},
   "outputs": [],
   "source": []
  }
 ],
 "metadata": {
  "kernelspec": {
   "display_name": "Python 3 (ipykernel)",
   "language": "python",
   "name": "python3"
  },
  "language_info": {
   "codemirror_mode": {
    "name": "ipython",
    "version": 3
   },
   "file_extension": ".py",
   "mimetype": "text/x-python",
   "name": "python",
   "nbconvert_exporter": "python",
   "pygments_lexer": "ipython3",
   "version": "3.10.9"
  }
 },
 "nbformat": 4,
 "nbformat_minor": 5
}
